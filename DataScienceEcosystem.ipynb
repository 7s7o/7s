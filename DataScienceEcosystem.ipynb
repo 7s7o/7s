{
 "cells": [
  {
   "cell_type": "code",
   "execution_count": null,
   "id": "ec3b9271-131b-4d09-8332-01fba087bf0a",
   "metadata": {},
   "outputs": [],
   "source": []
  },
  {
   "cell_type": "markdown",
   "id": "1d038e0a-f5bc-4f4e-820f-0a99e8099252",
   "metadata": {},
   "source": [
    "# Data Science Tools and Ecosystem\n"
   ]
  },
  {
   "cell_type": "markdown",
   "id": "418fe483-7631-44e1-b555-12490d6d4114",
   "metadata": {},
   "source": [
    "In this notebook, Data Science Tools and Ecosystem are summarized.\n"
   ]
  },
  {
   "cell_type": "markdown",
   "id": "6620ebf1-091f-45a9-ae48-963b1b148bd3",
   "metadata": {},
   "source": [
    "Some of the popular languages that Data Scientists use are:\n",
    "\n",
    "1. Python\n",
    "2. R\n",
    "3. SQL\n"
   ]
  },
  {
   "cell_type": "markdown",
   "id": "1c07887b-81bb-4558-aaf5-a75b99748451",
   "metadata": {},
   "source": [
    "Some of the commonly used libraries used by Data Scientists include:\n",
    "\n",
    "1. NumPy\n",
    "2. Pandas\n",
    "3. Matplotlib\n"
   ]
  },
  {
   "cell_type": "markdown",
   "id": "6ce93c57-cdbd-42b4-8415-d3f9890afb54",
   "metadata": {},
   "source": [
    "| Data Science Tools |\n",
    "|--------------------|\n",
    "| Jupyter Notebook   |\n",
    "| RStudio            |\n",
    "| Spyder             |\n"
   ]
  },
  {
   "cell_type": "code",
   "execution_count": null,
   "id": "29d34502-6b2c-47e6-98f1-6d105296c077",
   "metadata": {},
   "outputs": [],
   "source": []
  },
  {
   "cell_type": "markdown",
   "id": "45f94f79-695b-4fdf-9aa1-75c004b18250",
   "metadata": {},
   "source": [
    "### Below are a few examples of evaluating arithmetic expressions in Python.\n"
   ]
  },
  {
   "cell_type": "code",
   "execution_count": null,
   "id": "921bafc0-8e8a-4bdf-84bc-eb6ab8abe4e9",
   "metadata": {},
   "outputs": [],
   "source": []
  },
  {
   "cell_type": "code",
   "execution_count": 2,
   "id": "d41f10d9-c763-48d3-b1cc-f1feccf453ca",
   "metadata": {
    "tags": []
   },
   "outputs": [
    {
     "data": {
      "text/plain": [
       "17"
      ]
     },
     "execution_count": 2,
     "metadata": {},
     "output_type": "execute_result"
    }
   ],
   "source": [
    "result = (3 * 4) + 5\n",
    "result\n"
   ]
  },
  {
   "cell_type": "code",
   "execution_count": 3,
   "id": "2bffb71b-4d34-4d29-9db4-f98e4fe00a62",
   "metadata": {
    "tags": []
   },
   "outputs": [
    {
     "data": {
      "text/plain": [
       "3.3333333333333335"
      ]
     },
     "execution_count": 3,
     "metadata": {},
     "output_type": "execute_result"
    }
   ],
   "source": [
    "\n",
    "minutes = 200\n",
    "hours = minutes / 60\n",
    "hours\n"
   ]
  },
  {
   "cell_type": "code",
   "execution_count": null,
   "id": "37fc4682-54a7-4dae-a79a-5d52e89499d4",
   "metadata": {},
   "outputs": [],
   "source": []
  },
  {
   "cell_type": "markdown",
   "id": "d428f81d-dcc0-4aa5-a329-5dcdb0af34bc",
   "metadata": {},
   "source": [
    "**Objectives:**\n",
    "\n",
    "- List popular languages for Data Science.\n",
    "- Identify commonly used libraries in Data Science.\n",
    "- Introduce Data Science tools and environments.\n"
   ]
  },
  {
   "cell_type": "code",
   "execution_count": null,
   "id": "a14234d9-e6ad-453e-a4c9-2953b4a11009",
   "metadata": {},
   "outputs": [],
   "source": []
  },
  {
   "cell_type": "markdown",
   "id": "a3afa986-e556-44e5-9dfb-60ea11b4af4b",
   "metadata": {},
   "source": [
    "## Author\n",
    "HUSSAM ALSAEIDI\n"
   ]
  },
  {
   "cell_type": "code",
   "execution_count": null,
   "id": "2c65c885-5a63-4a91-a9c8-62331683aff6",
   "metadata": {},
   "outputs": [],
   "source": []
  }
 ],
 "metadata": {
  "kernelspec": {
   "display_name": "Python",
   "language": "python",
   "name": "conda-env-python-py"
  },
  "language_info": {
   "codemirror_mode": {
    "name": "ipython",
    "version": 3
   },
   "file_extension": ".py",
   "mimetype": "text/x-python",
   "name": "python",
   "nbconvert_exporter": "python",
   "pygments_lexer": "ipython3",
   "version": "3.7.12"
  }
 },
 "nbformat": 4,
 "nbformat_minor": 5
}
